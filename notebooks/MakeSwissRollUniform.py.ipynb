{
 "cells": [
  {
   "cell_type": "code",
   "execution_count": 24,
   "metadata": {},
   "outputs": [],
   "source": [
    "#%%writefile MakeSwissRollUniform.py\n",
    "\n",
    "\"\"\" Compute the function that is the integral of sqrt(1+(b*theta)**2) \n",
    "\"\"\"\n",
    "\n",
    "from numpy import arcsinh, sqrt\n",
    "def ThetatoX(theta,b=2):\n",
    "    return (theta*sqrt((b*theta)**2 + 1) + arcsinh(b*theta)/b)/2."
   ]
  },
  {
   "cell_type": "code",
   "execution_count": 35,
   "metadata": {
    "scrolled": true
   },
   "outputs": [
    {
     "name": "stdout",
     "output_type": "stream",
     "text": [
      "Populating the interactive namespace from numpy and matplotlib\n"
     ]
    },
    {
     "data": {
      "image/png": "[encoded data removed]",
      "text/plain": [
       "<Figure size 432x288 with 1 Axes>"
      ]
     },
     "metadata": {
      "needs_background": "light"
     },
     "output_type": "display_data"
    }
   ],
   "source": [
    "#### Plotting the function\n",
    "%pylab inline\n",
    "t=arange(1,4,0.001)\n",
    "y=np.array([ThetatoX(yy,2) for yy in list(t)])\n",
    "plot(t,y)\n",
    "ylabel('X')\n",
    "xlabel('theta')\n",
    "grid()"
   ]
  },
  {
   "cell_type": "code",
   "execution_count": 36,
   "metadata": {
    "scrolled": true
   },
   "outputs": [
    {
     "data": {
      "text/plain": [
       "3.0399999999997753"
      ]
     },
     "execution_count": 36,
     "metadata": {},
     "output_type": "execute_result"
    }
   ],
   "source": [
    "def XtoTheta(x=1.5):\n",
    "    l=y.shape[0]\n",
    "    i=int(l/2.)\n",
    "    step=l/4.\n",
    "    while True:\n",
    "        if y[i]>x:\n",
    "            i=int(i-step)\n",
    "        else:\n",
    "            i=int(i+step)\n",
    "        step/=2.\n",
    "        if step<1.:\n",
    "            break\n",
    "    return t[i]\n",
    "XtoTheta(10.0)"
   ]
  },
  {
   "cell_type": "code",
   "execution_count": 37,
   "metadata": {},
   "outputs": [
    {
     "data": {
      "text/plain": [
       "9.991977677850103"
      ]
     },
     "execution_count": 37,
     "metadata": {},
     "output_type": "execute_result"
    }
   ],
   "source": [
    "ThetatoX(3.04)"
   ]
  },
  {
   "cell_type": "code",
   "execution_count": 1,
   "metadata": {},
   "outputs": [
    {
     "data": {
      "text/latex": [
       "$\\displaystyle \\frac{\\theta \\sqrt{b^{2} \\theta^{2} + 1}}{2} + \\frac{\\operatorname{asinh}{\\left(b \\theta \\right)}}{2 b}$"
      ],
      "text/plain": [
       "theta*sqrt(b**2*theta**2 + 1)/2 + asinh(b*theta)/(2*b)"
      ]
     },
     "execution_count": 1,
     "metadata": {},
     "output_type": "execute_result"
    }
   ],
   "source": [
    "#### Sympy code for computing the integral used in the function I above\n",
    "from sympy import *\n",
    "theta=Symbol('theta')\n",
    "a=Symbol('a')\n",
    "b=Symbol('b')\n",
    "integrate(sqrt(1+(b*theta)**2),theta)"
   ]
  },
  {
   "cell_type": "code",
   "execution_count": 3,
   "metadata": {},
   "outputs": [
    {
     "data": {
      "text/plain": [
       "'(1.0/2.0)*(b*theta*sqrt(pow(b, 2)*pow(theta, 2) + 1) + asinh(b*theta))/b'"
      ]
     },
     "execution_count": 3,
     "metadata": {},
     "output_type": "execute_result"
    }
   ],
   "source": [
    "I=simplify(integrate(sqrt(1+(b*theta)**2),theta))\n",
    "ccode(I)"
   ]
  },
  {
   "cell_type": "code",
   "execution_count": null,
   "metadata": {},
   "outputs": [],
   "source": []
  },
  {
   "cell_type": "code",
   "execution_count": null,
   "metadata": {},
   "outputs": [],
   "source": []
  },
  {
   "cell_type": "code",
   "execution_count": null,
   "metadata": {},
   "outputs": [],
   "source": []
  }
 ],
 "metadata": {
  "kernelspec": {
   "display_name": "Python 3",
   "language": "python",
   "name": "python3"
  },
  "language_info": {
   "codemirror_mode": {
    "name": "ipython",
    "version": 3
   },
   "file_extension": ".py",
   "mimetype": "text/x-python",
   "name": "python",
   "nbconvert_exporter": "python",
   "pygments_lexer": "ipython3",
   "version": "3.7.6"
  },
  "toc": {
   "base_numbering": 1,
   "nav_menu": {},
   "number_sections": true,
   "sideBar": true,
   "skip_h1_title": false,
   "title_cell": "Table of Contents",
   "title_sidebar": "Contents",
   "toc_cell": false,
   "toc_position": {},
   "toc_section_display": true,
   "toc_window_display": false
  }
 },
 "nbformat": 4,
 "nbformat_minor": 4
}
