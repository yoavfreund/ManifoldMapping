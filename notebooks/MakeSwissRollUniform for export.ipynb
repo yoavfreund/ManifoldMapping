{
 "cells": [
  {
   "cell_type": "code",
   "execution_count": 21,
   "metadata": {},
   "outputs": [
    {
     "name": "stdout",
     "output_type": "stream",
     "text": [
      "Overwriting MakeSwissRollUniform.py\n"
     ]
    }
   ],
   "source": [
    "%%writefile MakeSwissRollUniform.py\n",
    "\n",
    "\"\"\" Compute the function that is the inverse of the integral of sqrt(1+(b*theta)**2) \n",
    "\"\"\"\n",
    "\n",
    "from numpy import arcsinh, sqrt\n",
    "import numpy as np\n",
    "\n",
    "class SwissToUniform:\n",
    "    def __init__(self,_from=0,_to=5,resolution=0.01,b=1):\n",
    "        self.T=np.arange(_from-2*resolution,_to+2*resolution,resolution) # range of theta\n",
    "        self.b=b\n",
    "        self.X=np.array([self.ThetatoX(yy) for yy in list(self.T)]) # table of X as a function of theta\n",
    "\n",
    "    def ThetatoX(self,theta):\n",
    "        b=self.b\n",
    "        return (theta*sqrt((b*theta)**2 + 1) + arcsinh(b*theta)/b)/2.\n",
    "\n",
    "    def XtoTheta(self,x):\n",
    "        X=self.X\n",
    "        l=X.shape[0]\n",
    "        i=int(l/2.)\n",
    "        step=l/4.\n",
    "        while True:\n",
    "            if X[i]>x:\n",
    "                i=int(i-step)\n",
    "            else:\n",
    "                i=int(i+step)\n",
    "            step/=2.\n",
    "            if step<1.:\n",
    "                break\n",
    "        return self.T[i]"
   ]
  },
  {
   "cell_type": "code",
   "execution_count": 18,
   "metadata": {
    "scrolled": true
   },
   "outputs": [
    {
     "name": "stdout",
     "output_type": "stream",
     "text": [
      "Populating the interactive namespace from numpy and matplotlib\n"
     ]
    },
    {
     "data": {
      "image/png": "[encoded data removed]",
      "text/plain": [
       "<Figure size 432x288 with 1 Axes>"
      ]
     },
     "metadata": {
      "needs_background": "light"
     },
     "output_type": "display_data"
    }
   ],
   "source": [
    "#### Plotting the function\n",
    "%pylab inline\n",
    "Map = SwissToUniform(0,5,0.001)\n",
    "y=np.array([Map.ThetatoX(yy) for yy in list(Map.T)])\n",
    "plot(Map.T,y)\n",
    "ylabel('X')\n",
    "xlabel('theta')\n",
    "grid()"
   ]
  },
  {
   "cell_type": "code",
   "execution_count": 19,
   "metadata": {
    "scrolled": false
   },
   "outputs": [
    {
     "name": "stdout",
     "output_type": "stream",
     "text": [
      "0.0 -0.001 -0.0010000001666666417 0.0010000001666666417\n",
      "0.5 0.481 0.49895166333939145 0.001048336660608551\n",
      "1.0 0.891 0.9977653313109325 0.0022346686890675205\n",
      "1.5 1.234 1.498771955279253 0.0012280447207468903\n",
      "2.0 1.528 2.000267836967427 0.00026783696742693763\n",
      "2.5 1.7850000000000001 2.497645183048727 0.00235481695127282\n",
      "3.0 2.019 3.0005325524380924 0.0005325524380923596\n",
      "3.5 2.2300000000000004 3.4960086186677986 0.003991381332201449\n",
      "4.0 2.4270000000000005 3.9952556030699817 0.004744396930018269\n",
      "4.5 2.611 4.493951455919491 0.006048544080509366\n",
      "5.0 2.785 4.994621418049376 0.005378581950624017\n",
      "5.5 2.951 5.498826381839701 0.0011736181602985951\n",
      "6.0 3.108 5.999704910056743 0.0002950899432567766\n",
      "6.5 3.2560000000000002 6.493352872585039 0.006647127414961318\n",
      "7.0 3.4010000000000002 6.997299477415658 0.0027005225843419467\n",
      "7.5 3.5400000000000005 7.49932802530996 0.0006719746900403223\n",
      "8.0 3.6730000000000005 7.997091919620761 0.002908080379238953\n",
      "8.5 3.8030000000000004 8.50012201163363 0.00012201163363023682\n",
      "9.0 3.9280000000000004 8.999217630243475 0.0007823697565250143\n",
      "9.5 4.049 9.496764633941167 0.0032353660588331223\n",
      "10.0 4.167000000000001 9.995665074370491 0.004334925629509101\n",
      "10.5 4.283 10.499306624000392 0.0006933759996083921\n",
      "11.0 4.394 10.993507670285279 0.0064923297147210235\n",
      "11.5 4.5040000000000004 11.495108267282056 0.004891732717943853\n",
      "12.0 4.611000000000001 11.994362173160155 0.005637826839844706\n",
      "12.5 4.716 12.495161240513543 0.004838759486457178\n"
     ]
    }
   ],
   "source": [
    "for x in arange(0,13,0.5):\n",
    "    theta = Map.XtoTheta(x)\n",
    "    x2=Map.ThetatoX(theta)\n",
    "    print(x,theta,x2,np.abs(x-x2))"
   ]
  },
  {
   "cell_type": "code",
   "execution_count": 1,
   "metadata": {},
   "outputs": [
    {
     "data": {
      "text/latex": [
       "$\\displaystyle \\frac{\\theta \\sqrt{b^{2} \\theta^{2} + 1}}{2} + \\frac{\\operatorname{asinh}{\\left(b \\theta \\right)}}{2 b}$"
      ],
      "text/plain": [
       "theta*sqrt(b**2*theta**2 + 1)/2 + asinh(b*theta)/(2*b)"
      ]
     },
     "execution_count": 1,
     "metadata": {},
     "output_type": "execute_result"
    }
   ],
   "source": [
    "#### Sympy code for computing the integral used in the function I above\n",
    "from sympy import *\n",
    "theta=Symbol('theta')\n",
    "a=Symbol('a')\n",
    "b=Symbol('b')\n",
    "integrate(sqrt(1+(b*theta)**2),theta)"
   ]
  },
  {
   "cell_type": "code",
   "execution_count": 16,
   "metadata": {},
   "outputs": [
    {
     "data": {
      "text/plain": [
       "0.008"
      ]
     },
     "execution_count": 16,
     "metadata": {},
     "output_type": "execute_result"
    }
   ],
   "source": [
    "Map.XtoTheta(0.01)"
   ]
  },
  {
   "cell_type": "code",
   "execution_count": 3,
   "metadata": {},
   "outputs": [
    {
     "data": {
      "text/plain": [
       "'(1.0/2.0)*(b*theta*sqrt(pow(b, 2)*pow(theta, 2) + 1) + asinh(b*theta))/b'"
      ]
     },
     "execution_count": 3,
     "metadata": {},
     "output_type": "execute_result"
    }
   ],
   "source": [
    "I=simplify(integrate(sqrt(1+(b*theta)**2),theta))\n",
    "ccode(I)"
   ]
  },
  {
   "cell_type": "code",
   "execution_count": null,
   "metadata": {},
   "outputs": [],
   "source": []
  },
  {
   "cell_type": "code",
   "execution_count": null,
   "metadata": {},
   "outputs": [],
   "source": []
  },
  {
   "cell_type": "code",
   "execution_count": null,
   "metadata": {},
   "outputs": [],
   "source": []
  }
 ],
 "metadata": {
  "kernelspec": {
   "display_name": "Python 3",
   "language": "python",
   "name": "python3"
  },
  "language_info": {
   "codemirror_mode": {
    "name": "ipython",
    "version": 3
   },
   "file_extension": ".py",
   "mimetype": "text/x-python",
   "name": "python",
   "nbconvert_exporter": "python",
   "pygments_lexer": "ipython3",
   "version": "3.7.6"
  },
  "toc": {
   "base_numbering": 1,
   "nav_menu": {},
   "number_sections": true,
   "sideBar": true,
   "skip_h1_title": false,
   "title_cell": "Table of Contents",
   "title_sidebar": "Contents",
   "toc_cell": false,
   "toc_position": {},
   "toc_section_display": true,
   "toc_window_display": false
  }
 },
 "nbformat": 4,
 "nbformat_minor": 4
}
