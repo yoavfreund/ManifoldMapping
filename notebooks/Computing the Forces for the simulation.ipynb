{
 "cells": [
  {
   "cell_type": "markdown",
   "metadata": {},
   "source": [
    "## What should the forces in the simulation be?\n",
    "\n",
    "Goal: Given a graph with pairwise distances. Find a 2D layout such that the distance between points that have an edge between them are as close as possible to the given distances."
   ]
  },
  {
   "cell_type": "markdown",
   "metadata": {},
   "source": [
    "Let $x_i$ be the $i$'th 2d vector."
   ]
  },
  {
   "cell_type": "markdown",
   "metadata": {},
   "source": [
    "Distance between $x_i,x_j$ is $d(x_i,x_j)=\\|x_i-x_j\\|$. The desired distance is $g_{i,j}$"
   ]
  },
  {
   "cell_type": "markdown",
   "metadata": {},
   "source": [
    "The cost function that we want to minimize is\n",
    "\n",
    "$$ Cost = \\sum_{(i,j) \\in E} \\left(d(x_i,x_j) - g_{i,j} \\right)^2 $$"
   ]
  },
  {
   "cell_type": "markdown",
   "metadata": {},
   "source": [
    "The force on a point $x_i$ is the gradient of the cost function with respect to $x_i$\n",
    "\n",
    "$$\\nabla Cost = \\sum_{(i,j) \\in E} \\left(d(x_i,x_j) - g_{i,j} \\right) (x_i - x_j) $$"
   ]
  },
  {
   "cell_type": "code",
   "execution_count": null,
   "metadata": {},
   "outputs": [],
   "source": []
  }
 ],
 "metadata": {
  "kernelspec": {
   "display_name": "Python 3",
   "language": "python",
   "name": "python3"
  },
  "language_info": {
   "codemirror_mode": {
    "name": "ipython",
    "version": 3
   },
   "file_extension": ".py",
   "mimetype": "text/x-python",
   "name": "python",
   "nbconvert_exporter": "python",
   "pygments_lexer": "ipython3",
   "version": "3.7.6"
  },
  "toc": {
   "base_numbering": 1,
   "nav_menu": {},
   "number_sections": true,
   "sideBar": true,
   "skip_h1_title": false,
   "title_cell": "Table of Contents",
   "title_sidebar": "Contents",
   "toc_cell": false,
   "toc_position": {},
   "toc_section_display": true,
   "toc_window_display": false
  }
 },
 "nbformat": 4,
 "nbformat_minor": 4
}
