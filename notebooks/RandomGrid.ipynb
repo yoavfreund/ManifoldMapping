{
 "cells": [
  {
   "cell_type": "code",
   "execution_count": 1,
   "metadata": {},
   "outputs": [],
   "source": [
    "#%%writefile squaregraphs.py\n",
    "\n",
    "import numpy.random as r\n",
    "import numpy as np\n",
    "import pylab as pl\n",
    "from matplotlib import collections  as mc\n",
    "\n",
    "# Ufunc are a way to vectorize python functions so that they execute efficiently on numpy arrays.\n",
    "def _diff(x,y):\n",
    "    return (x-y)**2\n",
    "\n",
    "ufunc_diff = np.frompyfunc(_diff,2,1)\n",
    "ufunc_sqrt=np.frompyfunc(lambda a:np.sqrt(a),1,1)\n",
    "\n",
    "def unifSquare(n=1000):\n",
    "    \"\"\"Generate a uniform sample from the square\"\"\"\n",
    "    X=r.uniform(size=[n,2])\n",
    "    return X\n",
    "\n",
    "def squareNet(n=100,epsilon=0.1):\n",
    "    \"\"\"Generate an epsilon net that covers all but about 1/n of the square\"\"\"\n",
    "    X=r.uniform(size=[1,2])\n",
    "    while True:\n",
    "        Z=r.uniform(size=[n,2])\n",
    "        D1=ufunc_diff.outer(X[:,0],Z[:,0])\n",
    "        D2=ufunc_diff.outer(X[:,1],Z[:,1])\n",
    "        D=D1+D2\n",
    "        _Dist=ufunc_sqrt(D) # compute matrix where entry i,j is the distance between center i and candidate j\n",
    "        #print(_Dist.shape)\n",
    "        min_dist=np.min(_Dist,axis=0)  # compute distance of each candidate to nearest center in X\n",
    "        #print(min_dist.shape)\n",
    "        d_max=np.max(min_dist)\n",
    "        print('\\r centers=%d, d_max= %5.3f, epsilon=%5.3f'%(X.shape[0],d_max,epsilon),end='')\n",
    "        if d_max<epsilon:\n",
    "            break\n",
    "        else:\n",
    "            i_max=np.argmax(min_dist)\n",
    "            X=np.append(X,Z[i_max:i_max+1,:],axis=0) # accumulate furthest center\n",
    "    return X\n",
    "\n",
    "def Compute_edges(X,max_dist=0.2):\n",
    "    \"\"\"Compute the edges whose length is smaller than max_dist\"\"\"\n",
    "\n",
    "    D1=ufunc_diff.outer(X[:,0],X[:,0])\n",
    "    D2=ufunc_diff.outer(X[:,1],X[:,1])\n",
    "    D=D1+D2\n",
    "    _Dist=ufunc_sqrt(D)\n",
    "    _Small = _Dist<max_dist\n",
    "\n",
    "    pairs=np.nonzero(_Small)\n",
    "\n",
    "    segments=[]\n",
    "    for i in range(len(pairs[0])):\n",
    "        c0=pairs[0][i]\n",
    "        c1=pairs[1][i]\n",
    "        if c0>c1:\n",
    "            segment=[tuple(X[c0,:]),tuple(X[c1,:])]\n",
    "            segments.append(segment)\n",
    "    return segments\n",
    "\n",
    "def plot_graph(X,segments):\n",
    "    lc = mc.LineCollection(segments, colors='r', linewidths=0.1)\n",
    "    fig, ax = pl.subplots(figsize=[12,12])\n",
    "    ax.plot(X[:,0],X[:,1],'.');\n",
    "    ax.add_collection(lc)\n",
    "    ax.autoscale()\n",
    "    \n",
    "\n",
    "X=squareNet(epsilon=0.05)\n",
    "\n",
    "#X=unifSquare(n=200)\n",
    "\n",
    "segments=Compute_edges(X,max_dist=0.1)\n",
    "plot_graph(X,segments)"
   ]
  },
  {
   "cell_type": "code",
   "execution_count": null,
   "metadata": {},
   "outputs": [],
   "source": [
    "X=unifSquare(n=250)\n",
    "\n",
    "segments=Compute_edges(X,max_dist=0.13)\n",
    "plot_graph(X,segments)"
   ]
  },
  {
   "cell_type": "code",
   "execution_count": null,
   "metadata": {},
   "outputs": [],
   "source": [
    "segments=Compute_edges(X,max_dist=0.2)\n",
    "plot_graph(X,segments)"
   ]
  },
  {
   "cell_type": "code",
   "execution_count": null,
   "metadata": {},
   "outputs": [],
   "source": [
    "segments=Compute_edges(X,max_dist=0.3)\n",
    "plot_graph(X,segments)"
   ]
  },
  {
   "cell_type": "code",
   "execution_count": null,
   "metadata": {},
   "outputs": [],
   "source": []
  }
 ],
 "metadata": {
  "kernelspec": {
   "display_name": "Python 3",
   "language": "python",
   "name": "python3"
  },
  "language_info": {
   "codemirror_mode": {
    "name": "ipython",
    "version": 3
   },
   "file_extension": ".py",
   "mimetype": "text/x-python",
   "name": "python",
   "nbconvert_exporter": "python",
   "pygments_lexer": "ipython3",
   "version": "3.7.6"
  },
  "toc": {
   "base_numbering": 1,
   "nav_menu": {},
   "number_sections": true,
   "sideBar": true,
   "skip_h1_title": false,
   "title_cell": "Table of Contents",
   "title_sidebar": "Contents",
   "toc_cell": false,
   "toc_position": {},
   "toc_section_display": true,
   "toc_window_display": false
  }
 },
 "nbformat": 4,
 "nbformat_minor": 4
}
